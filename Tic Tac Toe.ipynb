{
 "cells": [
  {
   "cell_type": "code",
   "execution_count": 2,
   "metadata": {},
   "outputs": [],
   "source": [
    "import numpy as np"
   ]
  },
  {
   "cell_type": "code",
   "execution_count": 37,
   "metadata": {},
   "outputs": [],
   "source": [
    "grid = ['', '', '', '', '', '', '', '', '']\n",
    "\n",
    "\n"
   ]
  },
  {
   "cell_type": "code",
   "execution_count": 44,
   "metadata": {},
   "outputs": [
    {
     "name": "stdout",
     "output_type": "stream",
     "text": [
      "Make your move. Pick row, then column (format '1, 2'): 3, 3\n"
     ]
    }
   ],
   "source": [
    "user_guess = input(\"Make your move. Pick row, then column (format '1, 2'): \")"
   ]
  },
  {
   "cell_type": "code",
   "execution_count": 45,
   "metadata": {},
   "outputs": [
    {
     "data": {
      "text/plain": [
       "'3, 3'"
      ]
     },
     "execution_count": 45,
     "metadata": {},
     "output_type": "execute_result"
    }
   ],
   "source": [
    "user_guess"
   ]
  },
  {
   "cell_type": "code",
   "execution_count": 46,
   "metadata": {},
   "outputs": [
    {
     "data": {
      "text/plain": [
       "['', 'X', '', '', '', '', '', '', 'X']"
      ]
     },
     "execution_count": 46,
     "metadata": {},
     "output_type": "execute_result"
    }
   ],
   "source": [
    "def input_guess(user_guess):\n",
    "    \n",
    "    user_guess = user_guess.strip()\n",
    "    row = int(user_guess[0])\n",
    "    column = int(user_guess[-1])\n",
    "    selection = 3 * (row - 1) + column - 1\n",
    "    grid[selection] = 'X'\n",
    "    return grid\n",
    "\n",
    "input_guess(user_guess)    "
   ]
  },
  {
   "cell_type": "code",
   "execution_count": 47,
   "metadata": {},
   "outputs": [],
   "source": [
    "from random import randint"
   ]
  },
  {
   "cell_type": "code",
   "execution_count": null,
   "metadata": {},
   "outputs": [],
   "source": [
    "def com_guess(random_guess):\n",
    "    guess = randint(0,9)"
   ]
  },
  {
   "cell_type": "code",
   "execution_count": 48,
   "metadata": {},
   "outputs": [
    {
     "data": {
      "text/plain": [
       "'B = [\\'X\\',\\'\\',\\'O\\',\\'X\\',\\'O\\',\\'\\',\\'X\\',\\'\\',\\'\\']\\n\\ndef check_win(B,ch):\\n\\n   X_list = []\\n\\n   for entry in B:\\n       i = 0\\n       if entry==ch:\\n           i = 1\\n       X_list.append(i)\\n\\n   X_score = [X_list[0]+X_list[1]+X_list[2]\\n             ,X_list[3]+X_list[4]+X_list[5]\\n             ,X_list[6]+X_list[7]+X_list[8]\\n             ,X_list[0]+X_list[3]+X_list[6]\\n             ,X_list[1]+X_list[4]+X_list[7]\\n             ,X_list[2]+X_list[5]+X_list[8]\\n             ,X_list[0]+X_list[4]+X_list[8]\\n             ,X_list[2]+X_list[4]+X_list[6]]\\n\\n   if 3 in X_score:\\n       print(ch+\" wins\")\\n   else:\\n       print(\"Nobody won this round\")\\n\\n   return\\n\\ncheck_win(B,\\'X\\')'"
      ]
     },
     "execution_count": 48,
     "metadata": {},
     "output_type": "execute_result"
    }
   ],
   "source": [
    "'''B = ['X','','O','X','O','','X','','']\n",
    "\n",
    "def check_win(B,ch):\n",
    "\n",
    "   X_list = []\n",
    "\n",
    "   for entry in B:\n",
    "       i = 0\n",
    "       if entry==ch:\n",
    "           i = 1\n",
    "       X_list.append(i)\n",
    "\n",
    "   X_score = [X_list[0]+X_list[1]+X_list[2]\n",
    "             ,X_list[3]+X_list[4]+X_list[5]\n",
    "             ,X_list[6]+X_list[7]+X_list[8]\n",
    "             ,X_list[0]+X_list[3]+X_list[6]\n",
    "             ,X_list[1]+X_list[4]+X_list[7]\n",
    "             ,X_list[2]+X_list[5]+X_list[8]\n",
    "             ,X_list[0]+X_list[4]+X_list[8]\n",
    "             ,X_list[2]+X_list[4]+X_list[6]]\n",
    "\n",
    "   if 3 in X_score:\n",
    "       print(ch+\" wins\")\n",
    "   else:\n",
    "       print(\"Nobody won this round\")\n",
    "\n",
    "   return\n",
    "\n",
    "check_win(B,'X')'''"
   ]
  },
  {
   "cell_type": "code",
   "execution_count": null,
   "metadata": {},
   "outputs": [],
   "source": []
  }
 ],
 "metadata": {
  "kernelspec": {
   "display_name": "Python 3",
   "language": "python",
   "name": "python3"
  },
  "language_info": {
   "codemirror_mode": {
    "name": "ipython",
    "version": 3
   },
   "file_extension": ".py",
   "mimetype": "text/x-python",
   "name": "python",
   "nbconvert_exporter": "python",
   "pygments_lexer": "ipython3",
   "version": "3.6.7"
  }
 },
 "nbformat": 4,
 "nbformat_minor": 2
}
